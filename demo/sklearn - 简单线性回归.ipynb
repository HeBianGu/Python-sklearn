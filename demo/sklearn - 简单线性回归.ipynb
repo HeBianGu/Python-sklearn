{
 "cells": [
  {
   "cell_type": "markdown",
   "metadata": {},
   "source": [
    "# 说明：一元线性回归"
   ]
  },
  {
   "cell_type": "code",
   "execution_count": 103,
   "metadata": {},
   "outputs": [],
   "source": [
    "import matplotlib.pyplot as plt"
   ]
  },
  {
   "cell_type": "code",
   "execution_count": 104,
   "metadata": {},
   "outputs": [],
   "source": [
    "import numpy as np"
   ]
  },
  {
   "cell_type": "code",
   "execution_count": 105,
   "metadata": {},
   "outputs": [],
   "source": [
    "import math"
   ]
  },
  {
   "cell_type": "markdown",
   "metadata": {},
   "source": [
    "## 构造数据"
   ]
  },
  {
   "cell_type": "code",
   "execution_count": 106,
   "metadata": {},
   "outputs": [],
   "source": [
    "x=np.array([1, 2, 3, 4, 5, 6, 7,8,9,10,11,23])"
   ]
  },
  {
   "cell_type": "code",
   "execution_count": 220,
   "metadata": {},
   "outputs": [],
   "source": [
    "x=np.linspace(0,100,100)"
   ]
  },
  {
   "cell_type": "code",
   "execution_count": 224,
   "metadata": {},
   "outputs": [],
   "source": [
    "r=np.random.normal(0,50,size=100)"
   ]
  },
  {
   "cell_type": "code",
   "execution_count": 230,
   "metadata": {},
   "outputs": [],
   "source": [
    "y= 3*x+ r"
   ]
  },
  {
   "cell_type": "code",
   "execution_count": 231,
   "metadata": {},
   "outputs": [
    {
     "data": {
      "image/png": "[encoded data removed]",
      "text/plain": [
       "<Figure size 432x288 with 1 Axes>"
      ]
     },
     "metadata": {
      "needs_background": "light"
     },
     "output_type": "display_data"
    }
   ],
   "source": [
    "plt.scatter(x,y)\n",
    "plt.show()"
   ]
  },
  {
   "cell_type": "markdown",
   "metadata": {},
   "source": [
    "## 应用最小二乘法计算参数a和b"
   ]
  },
  {
   "cell_type": "code",
   "execution_count": 232,
   "metadata": {},
   "outputs": [
    {
     "data": {
      "text/plain": [
       "50.00000000000001"
      ]
     },
     "execution_count": 232,
     "metadata": {},
     "output_type": "execute_result"
    }
   ],
   "source": [
    "x_mean=np.mean(x)\n",
    "x_mean"
   ]
  },
  {
   "cell_type": "code",
   "execution_count": 233,
   "metadata": {},
   "outputs": [
    {
     "data": {
      "text/plain": [
       "141.81974802365707"
      ]
     },
     "execution_count": 233,
     "metadata": {},
     "output_type": "execute_result"
    }
   ],
   "source": [
    "y_mean=np.mean(y)\n",
    "y_mean"
   ]
  },
  {
   "cell_type": "code",
   "execution_count": null,
   "metadata": {},
   "outputs": [],
   "source": []
  },
  {
   "cell_type": "code",
   "execution_count": 234,
   "metadata": {},
   "outputs": [
    {
     "name": "stdout",
     "output_type": "stream",
     "text": [
      "(0.0, 35.51446690589934)\n",
      "(1.0101010101010102, 24.079077064214907)\n",
      "(2.0202020202020203, -77.27268336893131)\n",
      "(3.0303030303030303, -91.40185816737457)\n",
      "(4.040404040404041, -1.6694236372035043)\n",
      "(5.050505050505051, -66.52274707400316)\n",
      "(6.0606060606060606, 11.576022972115108)\n",
      "(7.070707070707071, 24.875180510131564)\n",
      "(8.080808080808081, -131.98162897958863)\n",
      "(9.090909090909092, 28.25743533808865)\n",
      "(10.101010101010102, -34.686496939323284)\n",
      "(11.111111111111112, -154.69452763836995)\n",
      "(12.121212121212121, 125.11306116407033)\n",
      "(13.131313131313131, -10.269911815627204)\n",
      "(14.141414141414142, 1.2299796259437912)\n",
      "(15.151515151515152, -91.08718305236432)\n",
      "(16.161616161616163, 143.94742251662944)\n",
      "(17.171717171717173, 53.95315303243227)\n",
      "(18.181818181818183, 76.2867983229482)\n",
      "(19.191919191919194, 42.40304496640336)\n",
      "(20.202020202020204, 10.036418578579784)\n",
      "(21.212121212121215, 74.01723354952584)\n",
      "(22.222222222222225, -39.27087895995403)\n",
      "(23.232323232323235, 67.4176219624635)\n",
      "(24.242424242424242, -17.243535269477547)\n",
      "(25.252525252525253, 125.06567909515492)\n",
      "(26.262626262626263, 97.60964951078137)\n",
      "(27.272727272727273, 86.40475792350243)\n",
      "(28.282828282828284, 83.19462101813188)\n",
      "(29.292929292929294, 46.337711511680176)\n",
      "(30.303030303030305, -6.784893324825347)\n",
      "(31.313131313131315, 134.60841283117895)\n",
      "(32.323232323232325, 75.34260200924648)\n",
      "(33.333333333333336, 5.363744048618372)\n",
      "(34.343434343434346, 123.45877415094148)\n",
      "(35.35353535353536, 146.81772708830653)\n",
      "(36.36363636363637, 69.86925866433123)\n",
      "(37.37373737373738, 68.96112438842906)\n",
      "(38.38383838383839, 65.7956639919587)\n",
      "(39.3939393939394, 103.87965729645738)\n",
      "(40.40404040404041, 129.30716456217834)\n",
      "(41.41414141414142, 89.91016424155394)\n",
      "(42.42424242424243, 168.853596678121)\n",
      "(43.43434343434344, 100.3433909502908)\n",
      "(44.44444444444445, 194.44556916421757)\n",
      "(45.45454545454546, 177.4021097940369)\n",
      "(46.46464646464647, 167.41436148588502)\n",
      "(47.47474747474748, 127.22577063797814)\n",
      "(48.484848484848484, 165.75934913268648)\n",
      "(49.494949494949495, 76.20740949461653)\n",
      "(50.505050505050505, 240.13776825398543)\n",
      "(51.515151515151516, 170.85232872003488)\n",
      "(52.525252525252526, 110.21072388010991)\n",
      "(53.535353535353536, 246.41030891936535)\n",
      "(54.54545454545455, 128.53890232468214)\n",
      "(55.55555555555556, 217.19295062543722)\n",
      "(56.56565656565657, 139.67775405548235)\n",
      "(57.57575757575758, 155.80766187524793)\n",
      "(58.58585858585859, 193.01927851321668)\n",
      "(59.5959595959596, 192.91893200282726)\n",
      "(60.60606060606061, 202.13500830151776)\n",
      "(61.61616161616162, 244.04226995943054)\n",
      "(62.62626262626263, 202.5143092801457)\n",
      "(63.63636363636364, 145.00284070004224)\n",
      "(64.64646464646465, 255.12323337306725)\n",
      "(65.65656565656566, 218.2010930267262)\n",
      "(66.66666666666667, 241.49393918469664)\n",
      "(67.67676767676768, 222.49264233848524)\n",
      "(68.68686868686869, 254.361277120164)\n",
      "(69.6969696969697, 180.78202109908833)\n",
      "(70.70707070707071, 230.03537018845807)\n",
      "(71.71717171717172, 209.4481091695867)\n",
      "(72.72727272727273, 253.3471970353179)\n",
      "(73.73737373737374, 157.95826838390462)\n",
      "(74.74747474747475, 206.47390517201808)\n",
      "(75.75757575757576, 197.53012812244043)\n",
      "(76.76767676767678, 286.7146094110616)\n",
      "(77.77777777777779, 201.61017485458757)\n",
      "(78.7878787878788, 241.58611523954872)\n",
      "(79.7979797979798, 258.5314903721018)\n",
      "(80.80808080808082, 274.12186746972924)\n",
      "(81.81818181818183, 219.06937803288932)\n",
      "(82.82828282828284, 217.16302582511)\n",
      "(83.83838383838385, 282.54034563849166)\n",
      "(84.84848484848486, 261.60994100675794)\n",
      "(85.85858585858587, 220.38167148093663)\n",
      "(86.86868686868688, 260.1575390889819)\n",
      "(87.87878787878789, 270.8724571541124)\n",
      "(88.8888888888889, 286.42558458308406)\n",
      "(89.89898989898991, 283.64681502622807)\n",
      "(90.90909090909092, 284.3939215218677)\n",
      "(91.91919191919193, 195.25262314346875)\n",
      "(92.92929292929294, 258.5597383943702)\n",
      "(93.93939393939395, 285.4091574019163)\n",
      "(94.94949494949496, 248.2265888120004)\n",
      "(95.95959595959597, 283.0845643667498)\n",
      "(96.96969696969697, 347.31321543960394)\n",
      "(97.97979797979798, 275.70968109653336)\n",
      "(98.98989898989899, 276.4695824806388)\n",
      "(100.0, 322.0170749467706)\n"
     ]
    }
   ],
   "source": [
    "for k in zip(x,y):\n",
    "    print(k)"
   ]
  },
  {
   "cell_type": "markdown",
   "metadata": {},
   "source": [
    "# 用最小二乘法求a和b"
   ]
  },
  {
   "cell_type": "markdown",
   "metadata": {},
   "source": [
    "## $$a=\\frac{\\sum_{i=1}^{n}{(x_i-\\overline{x})(y_i-\\overline{y})}}{\\sum_{i=1}^{n}{(x_i-\\overline{x})^2}}$$"
   ]
  },
  {
   "cell_type": "markdown",
   "metadata": {},
   "source": [
    "# $$b=\\overline{y}-a\\overline{x}$$"
   ]
  },
  {
   "cell_type": "code",
   "execution_count": 235,
   "metadata": {},
   "outputs": [
    {
     "name": "stdout",
     "output_type": "stream",
     "text": [
      "292310.2056906548\n",
      "85016.83501683504\n"
     ]
    }
   ],
   "source": [
    "num=0.0\n",
    "d=0.0\n",
    "for x_z,y_z in zip(x,y):\n",
    "    num+=(x_z- x_mean)*(y_z-y_mean)\n",
    "    d+=(x_z-x_mean)**2\n",
    "print(num)\n",
    "print(d)"
   ]
  },
  {
   "cell_type": "code",
   "execution_count": 236,
   "metadata": {},
   "outputs": [],
   "source": [
    "a=num/d"
   ]
  },
  {
   "cell_type": "code",
   "execution_count": 237,
   "metadata": {},
   "outputs": [],
   "source": [
    "b=y_mean- a* x_mean"
   ]
  },
  {
   "cell_type": "markdown",
   "metadata": {},
   "source": [
    "## 绘制回归曲线"
   ]
  },
  {
   "cell_type": "code",
   "execution_count": 238,
   "metadata": {},
   "outputs": [
    {
     "data": {
      "text/plain": [
       "array([  0.        ,   1.01010101,   2.02020202,   3.03030303,\n",
       "         4.04040404,   5.05050505,   6.06060606,   7.07070707,\n",
       "         8.08080808,   9.09090909,  10.1010101 ,  11.11111111,\n",
       "        12.12121212,  13.13131313,  14.14141414,  15.15151515,\n",
       "        16.16161616,  17.17171717,  18.18181818,  19.19191919,\n",
       "        20.2020202 ,  21.21212121,  22.22222222,  23.23232323,\n",
       "        24.24242424,  25.25252525,  26.26262626,  27.27272727,\n",
       "        28.28282828,  29.29292929,  30.3030303 ,  31.31313131,\n",
       "        32.32323232,  33.33333333,  34.34343434,  35.35353535,\n",
       "        36.36363636,  37.37373737,  38.38383838,  39.39393939,\n",
       "        40.4040404 ,  41.41414141,  42.42424242,  43.43434343,\n",
       "        44.44444444,  45.45454545,  46.46464646,  47.47474747,\n",
       "        48.48484848,  49.49494949,  50.50505051,  51.51515152,\n",
       "        52.52525253,  53.53535354,  54.54545455,  55.55555556,\n",
       "        56.56565657,  57.57575758,  58.58585859,  59.5959596 ,\n",
       "        60.60606061,  61.61616162,  62.62626263,  63.63636364,\n",
       "        64.64646465,  65.65656566,  66.66666667,  67.67676768,\n",
       "        68.68686869,  69.6969697 ,  70.70707071,  71.71717172,\n",
       "        72.72727273,  73.73737374,  74.74747475,  75.75757576,\n",
       "        76.76767677,  77.77777778,  78.78787879,  79.7979798 ,\n",
       "        80.80808081,  81.81818182,  82.82828283,  83.83838384,\n",
       "        84.84848485,  85.85858586,  86.86868687,  87.87878788,\n",
       "        88.88888889,  89.8989899 ,  90.90909091,  91.91919192,\n",
       "        92.92929293,  93.93939394,  94.94949495,  95.95959596,\n",
       "        96.96969697,  97.97979798,  98.98989899, 100.        ])"
      ]
     },
     "execution_count": 238,
     "metadata": {},
     "output_type": "execute_result"
    }
   ],
   "source": [
    "x_result=np.linspace(0,100,100)\n",
    "x_result"
   ]
  },
  {
   "cell_type": "code",
   "execution_count": 239,
   "metadata": {},
   "outputs": [
    {
     "data": {
      "text/plain": [
       "3.4382626174306714"
      ]
     },
     "execution_count": 239,
     "metadata": {},
     "output_type": "execute_result"
    }
   ],
   "source": [
    "a"
   ]
  },
  {
   "cell_type": "code",
   "execution_count": 240,
   "metadata": {},
   "outputs": [
    {
     "data": {
      "image/png": "[encoded data removed]",
      "text/plain": [
       "<Figure size 432x288 with 1 Axes>"
      ]
     },
     "metadata": {
      "needs_background": "light"
     },
     "output_type": "display_data"
    }
   ],
   "source": [
    "plt.scatter(x,y)\n",
    "plt.plot(x_result,x_result*a+b)\n",
    "plt.show()"
   ]
  },
  {
   "cell_type": "markdown",
   "metadata": {},
   "source": [
    "## 利用回归曲线预测结果"
   ]
  },
  {
   "cell_type": "code",
   "execution_count": 241,
   "metadata": {},
   "outputs": [
    {
     "data": {
      "text/plain": [
       "313.73287889519065"
      ]
     },
     "execution_count": 241,
     "metadata": {},
     "output_type": "execute_result"
    }
   ],
   "source": [
    "x_sample=100\n",
    "y_sample=a*x_sample+b\n",
    "y_sample"
   ]
  },
  {
   "cell_type": "code",
   "execution_count": null,
   "metadata": {},
   "outputs": [],
   "source": []
  },
  {
   "cell_type": "code",
   "execution_count": null,
   "metadata": {},
   "outputs": [],
   "source": []
  }
 ],
 "metadata": {
  "kernelspec": {
   "display_name": "Python 3",
   "language": "python",
   "name": "python3"
  },
  "language_info": {
   "codemirror_mode": {
    "name": "ipython",
    "version": 3
   },
   "file_extension": ".py",
   "mimetype": "text/x-python",
   "name": "python",
   "nbconvert_exporter": "python",
   "pygments_lexer": "ipython3",
   "version": "3.7.0"
  }
 },
 "nbformat": 4,
 "nbformat_minor": 2
}
