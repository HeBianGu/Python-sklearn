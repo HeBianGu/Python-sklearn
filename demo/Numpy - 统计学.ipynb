{
 "cells": [
  {
   "cell_type": "code",
   "execution_count": 1,
   "metadata": {},
   "outputs": [],
   "source": [
    "import numpy as np"
   ]
  },
  {
   "cell_type": "code",
   "execution_count": 10,
   "metadata": {},
   "outputs": [
    {
     "data": {
      "text/plain": [
       "array([  0,   1,   2,   3,   4,   5,   6,   7,   8,   9,  10,  11,  12,\n",
       "        13,  14,  15,  16,  17,  18,  19,  20,  21,  22,  23,  24,  25,\n",
       "        26,  27,  28,  29,  30,  31,  32,  33,  34,  35,  36,  37,  38,\n",
       "        39,  40,  41,  42,  43,  44,  45,  46,  47,  48,  49,  50,  51,\n",
       "        52,  53,  54,  55,  56,  57,  58,  59,  60,  61,  62,  63,  64,\n",
       "        65,  66,  67,  68,  69,  70,  71,  72,  73,  74,  75,  76,  77,\n",
       "        78,  79,  80,  81,  82,  83,  84,  85,  86,  87,  88,  89,  90,\n",
       "        91,  92,  93,  94,  95,  96,  97,  98,  99, 100, 101, 102, 103,\n",
       "       104, 105, 106, 107, 108, 109, 110, 111, 112, 113, 114, 115, 116,\n",
       "       117, 118, 119, 120, 121, 122, 123, 124, 125, 126, 127, 128, 129,\n",
       "       130, 131, 132, 133, 134, 135, 136, 137, 138, 139, 140, 141, 142,\n",
       "       143, 144, 145, 146, 147, 148, 149, 150, 151, 152, 153, 154, 155,\n",
       "       156, 157, 158, 159])"
      ]
     },
     "execution_count": 10,
     "metadata": {},
     "output_type": "execute_result"
    }
   ],
   "source": [
    "x=np.arange(160)\n",
    "x"
   ]
  },
  {
   "cell_type": "markdown",
   "metadata": {},
   "source": [
    "## 统计学的统计参数：均值，方差，标准差，四分位中间值，四分位最小值，四分位最大值，四分位距"
   ]
  },
  {
   "cell_type": "code",
   "execution_count": 9,
   "metadata": {},
   "outputs": [
    {
     "name": "stdout",
     "output_type": "stream",
     "text": [
      "mean: 79.5\n",
      "variance: 2133.25\n",
      "standard deviation: 46.18711941656461\n",
      "median: 79.5\n",
      "lower percentile: 39.75\n",
      "upper percentile: 119.25\n",
      "IQR: 79.5\n"
     ]
    }
   ],
   "source": [
    "print(\"mean:\", np.mean(x))\n",
    "print(\"variance:\", np.var(x))\n",
    "print(\"standard deviation:\", np.std(x))\n",
    "print(\"median:\", np.median(x))\n",
    "print(\"lower percentile:\", np.percentile(x, 25))\n",
    "print(\"upper percentile:\", np.percentile(x, 75))\n",
    "print(\"IQR:\", np.percentile(x, 75) - np.percentile(x, 25))"
   ]
  },
  {
   "cell_type": "markdown",
   "metadata": {},
   "source": [
    "## 统计推断：用样本来推测群体的信息。这被称为统计推断"
   ]
  },
  {
   "cell_type": "markdown",
   "metadata": {},
   "source": [
    "## 样本空间：抽样所有可能的结果，就构成了我们的样本空间"
   ]
  },
  {
   "cell_type": "markdown",
   "metadata": {},
   "source": [
    "## 简单随机抽样：统计中经常采用理想化的抽样方法，也就是所谓的简单随机抽样"
   ]
  },
  {
   "cell_type": "markdown",
   "metadata": {},
   "source": [
    "## 随机样品：简单随机抽样产生的样品被称为随机样品"
   ]
  },
  {
   "cell_type": "markdown",
   "metadata": {},
   "source": [
    "## 随机抽样：当样品大小远远小于群体大小时，可以近似地认为是随机抽样"
   ]
  },
  {
   "cell_type": "markdown",
   "metadata": {},
   "source": [
    "## 正态分布图"
   ]
  },
  {
   "cell_type": "code",
   "execution_count": 14,
   "metadata": {},
   "outputs": [
    {
     "data": {
      "image/png": "[encoded data removed]",
      "text/plain": [
       "<Figure size 432x288 with 1 Axes>"
      ]
     },
     "metadata": {
      "needs_background": "light"
     },
     "output_type": "display_data"
    }
   ],
   "source": [
    "# By Vamei\n",
    "\n",
    "from scipy.stats import norm\n",
    "import numpy as np\n",
    "import matplotlib.pyplot as plt\n",
    "\n",
    "# Note the difference in \"scale\", which is std\n",
    "rv1 = norm(loc=0, scale = 1)\n",
    "rv2 = norm(loc=0, scale = 2)\n",
    "\n",
    "x = np.linspace(-5, 5, 200)\n",
    "\n",
    "plt.fill_between(x, rv1.pdf(x), y2=0.0, color=\"coral\")\n",
    "plt.fill_between(x, rv2.pdf(x), y2=0.0, color=\"green\", alpha = 0.5)\n",
    "\n",
    "plt.plot(x, rv1.pdf(x), color=\"red\", label=\"N(0,1)\")\n",
    "plt.plot(x, rv2.pdf(x), color=\"blue\", label=\"N(0,2)\")\n",
    "\n",
    "plt.legend()\n",
    "plt.grid(True)\n",
    "\n",
    "plt.xlim([-5, 5])\n",
    "plt.ylim([-0.0, 0.5])\n",
    "\n",
    "plt.title(\"normal distribution\")\n",
    "plt.xlabel(\"RV\")\n",
    "plt.ylabel(\"f(x)\")\n",
    "\n",
    "plt.show()"
   ]
  },
  {
   "cell_type": "code",
   "execution_count": null,
   "metadata": {},
   "outputs": [],
   "source": []
  }
 ],
 "metadata": {
  "kernelspec": {
   "display_name": "Python 3",
   "language": "python",
   "name": "python3"
  },
  "language_info": {
   "codemirror_mode": {
    "name": "ipython",
    "version": 3
   },
   "file_extension": ".py",
   "mimetype": "text/x-python",
   "name": "python",
   "nbconvert_exporter": "python",
   "pygments_lexer": "ipython3",
   "version": "3.7.0"
  }
 },
 "nbformat": 4,
 "nbformat_minor": 2
}
